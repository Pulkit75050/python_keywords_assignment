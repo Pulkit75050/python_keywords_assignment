{
 "cells": [
  {
   "cell_type": "code",
   "execution_count": 2,
   "id": "58b5c2fc-5910-45e1-a791-7fb568e35a63",
   "metadata": {},
   "outputs": [
    {
     "data": {
      "text/plain": [
       "'\\nSOL. Python keywords are essential components of the Python programming language.\\nTheir significance lies in the fact that they carry specific meanings and serve particular purposes in the code.\\nsome importance are:\\n1. Syntax Structure: Keywords dictate the syntax structure of the language.\\n2. Reserved Meaning: Each keyword has a reserved meaning that cannot be redefined or modified.\\n3. Built-In Availability: Python keywords are always available—you don’t need to import them explicitly.\\n4. Restrictions: You can’t assign values to keywords. Attempting to do so results in a SyntaxError.\\n\\nFive example are: True, False, print, for, while.\\n'"
      ]
     },
     "execution_count": 2,
     "metadata": {},
     "output_type": "execute_result"
    }
   ],
   "source": [
    "\"\"\"Q1. Explain the significance of Python keywords and provide examples of five keywords.\"\"\"\n",
    "\n",
    "\"\"\"\n",
    "SOL. Python keywords are essential components of the Python programming language.\n",
    "Their significance lies in the fact that they carry specific meanings and serve particular purposes in the code.\n",
    "some importance are:\n",
    "1. Syntax Structure: Keywords dictate the syntax structure of the language.\n",
    "2. Reserved Meaning: Each keyword has a reserved meaning that cannot be redefined or modified.\n",
    "3. Built-In Availability: Python keywords are always available—you don’t need to import them explicitly.\n",
    "4. Restrictions: You can’t assign values to keywords. Attempting to do so results in a SyntaxError.\n",
    "\n",
    "Five example are: True, False, print, for, while.\n",
    "\"\"\""
   ]
  },
  {
   "cell_type": "code",
   "execution_count": 11,
   "id": "6352be2a-1aed-41f3-be7d-d82ba363e4f7",
   "metadata": {},
   "outputs": [],
   "source": [
    "\"\"\"Q2. Describe the rules for defining identifiers in Python and provide an example.\"\"\"\n",
    "\n",
    "\"\"\"\n",
    "SOL. Identifiers are like the names we give to variables, functions, classes, and other objects in our code.\n",
    "They play a crucial role in making our code readable and understandable.\n",
    "The key rules for writing Python identifiers:\n",
    "1. Keywords: You cannot use Python keywords as identifier names.\n",
    "2. Character Set: Identifiers can contain: Letters (both lowercase and uppercase): a-z, A-Z, Digits: 0-9, Underscore(_).\n",
    "3. An identifier must begin with a letter (either lowercase or uppercase) or an underscore (_). It cannot start with a digit. \n",
    "4. An identifier cannot consist solely of digits.\n",
    "5. Identifiers can start with an underscore.\n",
    "6. Python identifiers are case-sensitive.\n",
    "\"\"\"\n",
    " # True = 5 here true cannot be asign as a variable because it is a keyword\n",
    "# but if we take \n",
    "car = 5 # it we asign as it fulfil all condition."
   ]
  },
  {
   "cell_type": "code",
   "execution_count": 6,
   "id": "33f350e0-a9dc-4248-897d-080f01af20e3",
   "metadata": {},
   "outputs": [
    {
     "data": {
      "text/plain": [
       "' \\nSOL. Python comments are like little notes left by a programmer within the code.\\nThey don’t affect the program’s execution; instead, they provide valuable context and explanations.\\nThere are two types of comments i.e. single line comment and Doc-string. \\nThey are useful because of:\\n1. Enhancing Readability.\\n2. Explaining Code.\\n3. Comments serve as documentation snippets.\\n4. They allow seamless collaboration—like leaving sticky notes for your teammates.\\n'"
      ]
     },
     "execution_count": 6,
     "metadata": {},
     "output_type": "execute_result"
    }
   ],
   "source": [
    "\"\"\"Q3. What are comments in Python, and why are they useful? Provide an example.\"\"\"\n",
    "\n",
    "\"\"\" \n",
    "SOL. Python comments are like little notes left by a programmer within the code.\n",
    "They don’t affect the program’s execution; instead, they provide valuable context and explanations.\n",
    "There are two types of comments i.e. single line comment and Doc-string. \n",
    "They are useful because of:\n",
    "1. Enhancing Readability.\n",
    "2. Explaining Code.\n",
    "3. Comments serve as documentation snippets.\n",
    "4. They allow seamless collaboration—like leaving sticky notes for your teammates.\n",
    "\"\"\"\n",
    "# Hello this is python comment. --------> Example."
   ]
  },
  {
   "cell_type": "code",
   "execution_count": 13,
   "id": "cb41b57d-0477-4f5b-a1a4-7f5efcb44533",
   "metadata": {},
   "outputs": [
    {
     "data": {
      "text/plain": [
       "'\\nSOL. Indentation refers to the spacing or tabs at the beginning of lines of code.\\nIt’s not just for aesthetics; it’s a fundamental part of Python’s syntax.\\nIt is important because of the following:\\n1. Proper indentation breaks up long blocks of code into manageable chunks.\\n2. Indentation helps you see where a block of code begins and ends.\\n3. Python relies on consistent indentation to understand code structure. Incorrect indentation leads to IndentationError.\\n4. When you share code with others, indentation is your universal language.\\n5. Debugging is smoother because you can spot misaligned blocks.\\n'"
      ]
     },
     "execution_count": 13,
     "metadata": {},
     "output_type": "execute_result"
    }
   ],
   "source": [
    "\"\"\"Q4. Why is proper indentation important in Python? \"\"\"\n",
    "\n",
    "\n",
    "\"\"\"\n",
    "SOL. Indentation refers to the spacing or tabs at the beginning of lines of code.\n",
    "It’s not just for aesthetics; it’s a fundamental part of Python’s syntax.\n",
    "It is important because of the following:\n",
    "1. Proper indentation breaks up long blocks of code into manageable chunks.\n",
    "2. Indentation helps you see where a block of code begins and ends.\n",
    "3. Python relies on consistent indentation to understand code structure. Incorrect indentation leads to IndentationError.\n",
    "4. When you share code with others, indentation is your universal language.\n",
    "5. Debugging is smoother because you can spot misaligned blocks.\n",
    "\"\"\""
   ]
  },
  {
   "cell_type": "code",
   "execution_count": 15,
   "id": "441632db-1dab-46d4-9e45-2d5f8a26a1ba",
   "metadata": {},
   "outputs": [
    {
     "data": {
      "text/plain": [
       "'\\nIndentation refers to the spacing or tabs at the beginning of lines of code.\\nIt’s not just for aesthetics; it’s a fundamental part of Python’s syntax.\\nIncorrect indentation leads to Indentation-Error. Python expects consistent indentation to determine where blocks begin and end.\\nA missing or extra space can cause unexpected behavior.\\n'"
      ]
     },
     "execution_count": 15,
     "metadata": {},
     "output_type": "execute_result"
    }
   ],
   "source": [
    "\"\"\"Q5. What happens if indentation is incorrect in Python?\"\"\"\n",
    "\n",
    "\"\"\"\n",
    "SOL. Indentation refers to the spacing or tabs at the beginning of lines of code.\n",
    "It’s not just for aesthetics; it’s a fundamental part of Python’s syntax.\n",
    "Incorrect indentation leads to Indentation-Error. Python expects consistent indentation to determine where blocks begin and end.\n",
    "A missing or extra space can cause unexpected behavior.\n",
    "\"\"\""
   ]
  },
  {
   "cell_type": "code",
   "execution_count": null,
   "id": "fd3f2898-7519-46a0-b9f0-de88b6a29ac8",
   "metadata": {},
   "outputs": [],
   "source": [
    "\"\"\"Q6. Differentiate between expression and statement in Python with examples?  \"\"\"\n",
    "\n",
    "\"\"\"\n",
    "Expressions: Evaluate to a value. Composed of identifiers, literals, and operators.\n",
    "Can be reduced to some kind of “value,” which can be any Python object.\n",
    "Examples:\n",
    "1. 3 + 5\n",
    "2. map(lambda x: x*x, range(10))\n",
    "3. [a.x for a in some_iterable]\n",
    "4. yield 7\n",
    "\n",
    "Statements: Do something (perform an action). Can make up a line (or several lines) of Python code.\n",
    "Note that expressions are also statements.\n",
    "Examples:\n",
    "1. print(42) (an expression statement)\n",
    "2. if x: do_y()\n",
    "3. return a = 7\n",
    "\n",
    "In summary, expressions are like value calculators, while statements are the instructions that make things happen.\n",
    "Remember, expressions can be part of statements, but not all statements are expressions.\n",
    "\"\"\""
   ]
  }
 ],
 "metadata": {
  "kernelspec": {
   "display_name": "Python 3 (ipykernel)",
   "language": "python",
   "name": "python3"
  },
  "language_info": {
   "codemirror_mode": {
    "name": "ipython",
    "version": 3
   },
   "file_extension": ".py",
   "mimetype": "text/x-python",
   "name": "python",
   "nbconvert_exporter": "python",
   "pygments_lexer": "ipython3",
   "version": "3.10.8"
  }
 },
 "nbformat": 4,
 "nbformat_minor": 5
}
